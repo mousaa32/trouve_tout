{
 "cells": [
  {
   "cell_type": "code",
   "execution_count": 1,
   "metadata": {},
   "outputs": [
    {
     "name": "stderr",
     "output_type": "stream",
     "text": [
      "Using TensorFlow backend.\n"
     ]
    }
   ],
   "source": [
    "from keras.models import Sequential\n",
    "from keras.layers import Convolution2D\n",
    "from keras.layers import MaxPooling2D\n",
    "from keras.layers import Flatten\n",
    "from keras.layers import Dense"
   ]
  },
  {
   "cell_type": "code",
   "execution_count": 2,
   "metadata": {},
   "outputs": [
    {
     "name": "stdout",
     "output_type": "stream",
     "text": [
      "WARNING:tensorflow:From /home/moussa/anaconda3/lib/python3.7/site-packages/keras/backend/tensorflow_backend.py:74: The name tf.get_default_graph is deprecated. Please use tf.compat.v1.get_default_graph instead.\n",
      "\n"
     ]
    }
   ],
   "source": [
    "# Initialising the CNN\n",
    "classifier = Sequential()"
   ]
  },
  {
   "cell_type": "code",
   "execution_count": 3,
   "metadata": {},
   "outputs": [
    {
     "name": "stdout",
     "output_type": "stream",
     "text": [
      "WARNING:tensorflow:From /home/moussa/anaconda3/lib/python3.7/site-packages/keras/backend/tensorflow_backend.py:517: The name tf.placeholder is deprecated. Please use tf.compat.v1.placeholder instead.\n",
      "\n",
      "WARNING:tensorflow:From /home/moussa/anaconda3/lib/python3.7/site-packages/keras/backend/tensorflow_backend.py:4138: The name tf.random_uniform is deprecated. Please use tf.random.uniform instead.\n",
      "\n"
     ]
    },
    {
     "name": "stderr",
     "output_type": "stream",
     "text": [
      "/home/moussa/anaconda3/lib/python3.7/site-packages/ipykernel_launcher.py:2: UserWarning: Update your `Conv2D` call to the Keras 2 API: `Conv2D(32, (3, 3), input_shape=(64, 64, 3..., activation=\"relu\")`\n",
      "  \n"
     ]
    }
   ],
   "source": [
    "# Step 1 - Convolution\n",
    "classifier.add(Convolution2D(32, 3, 3, input_shape = (64, 64, 3), activation = 'relu'))"
   ]
  },
  {
   "cell_type": "code",
   "execution_count": 4,
   "metadata": {},
   "outputs": [
    {
     "name": "stdout",
     "output_type": "stream",
     "text": [
      "WARNING:tensorflow:From /home/moussa/anaconda3/lib/python3.7/site-packages/keras/backend/tensorflow_backend.py:3976: The name tf.nn.max_pool is deprecated. Please use tf.nn.max_pool2d instead.\n",
      "\n"
     ]
    }
   ],
   "source": [
    "# Step 2 - Pooling\n",
    "classifier.add(MaxPooling2D(pool_size = (2, 2)))"
   ]
  },
  {
   "cell_type": "code",
   "execution_count": 7,
   "metadata": {},
   "outputs": [
    {
     "name": "stderr",
     "output_type": "stream",
     "text": [
      "/home/moussa/anaconda3/lib/python3.7/site-packages/ipykernel_launcher.py:2: UserWarning: Update your `Conv2D` call to the Keras 2 API: `Conv2D(32, (3, 3), activation=\"relu\")`\n",
      "  \n"
     ]
    }
   ],
   "source": [
    "# Adding a second convolutional layer\n",
    "classifier.add(Convolution2D(32, 3, 3, activation = 'relu'))\n",
    "classifier.add(MaxPooling2D(pool_size = (2, 2)))"
   ]
  },
  {
   "cell_type": "code",
   "execution_count": 8,
   "metadata": {},
   "outputs": [],
   "source": [
    "# Step 3 - Flattening\n",
    "classifier.add(Flatten())"
   ]
  },
  {
   "cell_type": "code",
   "execution_count": 9,
   "metadata": {},
   "outputs": [
    {
     "name": "stderr",
     "output_type": "stream",
     "text": [
      "/home/moussa/anaconda3/lib/python3.7/site-packages/ipykernel_launcher.py:2: UserWarning: Update your `Dense` call to the Keras 2 API: `Dense(activation=\"relu\", units=128)`\n",
      "  \n",
      "/home/moussa/anaconda3/lib/python3.7/site-packages/ipykernel_launcher.py:3: UserWarning: Update your `Dense` call to the Keras 2 API: `Dense(activation=\"sigmoid\", units=1)`\n",
      "  This is separate from the ipykernel package so we can avoid doing imports until\n"
     ]
    }
   ],
   "source": [
    "# Step 4 - Full connection\n",
    "classifier.add(Dense(output_dim = 128, activation = 'relu'))\n",
    "classifier.add(Dense(output_dim = 1, activation = 'sigmoid'))"
   ]
  },
  {
   "cell_type": "code",
   "execution_count": 10,
   "metadata": {},
   "outputs": [
    {
     "name": "stdout",
     "output_type": "stream",
     "text": [
      "WARNING:tensorflow:From /home/moussa/anaconda3/lib/python3.7/site-packages/keras/optimizers.py:790: The name tf.train.Optimizer is deprecated. Please use tf.compat.v1.train.Optimizer instead.\n",
      "\n",
      "WARNING:tensorflow:From /home/moussa/anaconda3/lib/python3.7/site-packages/keras/backend/tensorflow_backend.py:3376: The name tf.log is deprecated. Please use tf.math.log instead.\n",
      "\n",
      "WARNING:tensorflow:From /home/moussa/anaconda3/lib/python3.7/site-packages/tensorflow/python/ops/nn_impl.py:180: add_dispatch_support.<locals>.wrapper (from tensorflow.python.ops.array_ops) is deprecated and will be removed in a future version.\n",
      "Instructions for updating:\n",
      "Use tf.where in 2.0, which has the same broadcast rule as np.where\n"
     ]
    }
   ],
   "source": [
    "# Compiling the CNN\n",
    "classifier.compile(optimizer = 'adam', loss = 'binary_crossentropy', metrics = ['accuracy'])"
   ]
  },
  {
   "cell_type": "code",
   "execution_count": 11,
   "metadata": {},
   "outputs": [],
   "source": [
    "# Part 2 - Fitting the CNN to the images\n",
    "\n",
    "from keras.preprocessing.image import ImageDataGenerator"
   ]
  },
  {
   "cell_type": "code",
   "execution_count": 12,
   "metadata": {},
   "outputs": [],
   "source": [
    "train_datagen = ImageDataGenerator(rescale = 1./255,\n",
    "                                   shear_range = 0.2,\n",
    "                                   zoom_range = 0.2,\n",
    "                                   horizontal_flip = True)\n",
    "\n",
    "test_datagen = ImageDataGenerator(rescale = 1./255)"
   ]
  },
  {
   "cell_type": "code",
   "execution_count": 13,
   "metadata": {},
   "outputs": [
    {
     "name": "stdout",
     "output_type": "stream",
     "text": [
      "Found 8000 images belonging to 2 classes.\n",
      "Found 2000 images belonging to 2 classes.\n"
     ]
    }
   ],
   "source": [
    "training_set = train_datagen.flow_from_directory('dataset/training_set',\n",
    "                                                 target_size = (64, 64),\n",
    "                                                 batch_size = 32,\n",
    "                                                 class_mode = 'binary')\n",
    "test_set = test_datagen.flow_from_directory('dataset/test_set',\n",
    "                                            target_size = (64, 64),\n",
    "                                            batch_size = 32,\n",
    "                                            class_mode = 'binary')"
   ]
  },
  {
   "cell_type": "code",
   "execution_count": 14,
   "metadata": {},
   "outputs": [
    {
     "data": {
      "text/plain": [
       "True"
      ]
     },
     "execution_count": 14,
     "metadata": {},
     "output_type": "execute_result"
    }
   ],
   "source": [
    "training_set.shuffle"
   ]
  },
  {
   "cell_type": "code",
   "execution_count": 15,
   "metadata": {},
   "outputs": [
    {
     "data": {
      "text/plain": [
       "<keras_preprocessing.image.directory_iterator.DirectoryIterator at 0x7f6e4541ea90>"
      ]
     },
     "execution_count": 15,
     "metadata": {},
     "output_type": "execute_result"
    }
   ],
   "source": [
    "training_set"
   ]
  },
  {
   "cell_type": "code",
   "execution_count": 16,
   "metadata": {},
   "outputs": [
    {
     "name": "stderr",
     "output_type": "stream",
     "text": [
      "/home/moussa/anaconda3/lib/python3.7/site-packages/ipykernel_launcher.py:5: UserWarning: The semantics of the Keras 2 argument `steps_per_epoch` is not the same as the Keras 1 argument `samples_per_epoch`. `steps_per_epoch` is the number of batches to draw from the generator at each epoch. Basically steps_per_epoch = samples_per_epoch/batch_size. Similarly `nb_val_samples`->`validation_steps` and `val_samples`->`steps` arguments have changed. Update your method calls accordingly.\n",
      "  \"\"\"\n",
      "/home/moussa/anaconda3/lib/python3.7/site-packages/ipykernel_launcher.py:5: UserWarning: Update your `fit_generator` call to the Keras 2 API: `fit_generator(<keras_pre..., validation_data=<keras_pre..., steps_per_epoch=250, epochs=25, validation_steps=2000)`\n",
      "  \"\"\"\n"
     ]
    },
    {
     "name": "stdout",
     "output_type": "stream",
     "text": [
      "WARNING:tensorflow:From /home/moussa/anaconda3/lib/python3.7/site-packages/keras/backend/tensorflow_backend.py:986: The name tf.assign_add is deprecated. Please use tf.compat.v1.assign_add instead.\n",
      "\n",
      "Epoch 1/25\n",
      "250/250 [==============================] - 389s 2s/step - loss: 0.6956 - acc: 0.5383 - val_loss: 0.6666 - val_acc: 0.6170\n",
      "Epoch 2/25\n",
      "250/250 [==============================] - 229s 914ms/step - loss: 0.6380 - acc: 0.6428 - val_loss: 0.6282 - val_acc: 0.6699\n",
      "Epoch 3/25\n",
      "250/250 [==============================] - 228s 910ms/step - loss: 0.5880 - acc: 0.6900 - val_loss: 0.5441 - val_acc: 0.7331\n",
      "Epoch 4/25\n",
      "250/250 [==============================] - 336s 1s/step - loss: 0.5406 - acc: 0.7294 - val_loss: 0.5150 - val_acc: 0.7525\n",
      "Epoch 5/25\n",
      "250/250 [==============================] - 334s 1s/step - loss: 0.5268 - acc: 0.7335 - val_loss: 0.5423 - val_acc: 0.7281\n",
      "Epoch 6/25\n",
      "250/250 [==============================] - 268s 1s/step - loss: 0.4996 - acc: 0.7600 - val_loss: 0.4897 - val_acc: 0.7611\n",
      "Epoch 7/25\n",
      "250/250 [==============================] - 384s 2s/step - loss: 0.4880 - acc: 0.7646 - val_loss: 0.4845 - val_acc: 0.7709\n",
      "Epoch 8/25\n",
      "250/250 [==============================] - 315s 1s/step - loss: 0.4710 - acc: 0.7735 - val_loss: 0.4731 - val_acc: 0.7885\n",
      "Epoch 9/25\n",
      "250/250 [==============================] - 296s 1s/step - loss: 0.4578 - acc: 0.7873 - val_loss: 0.4787 - val_acc: 0.7775\n",
      "Epoch 10/25\n",
      "250/250 [==============================] - 304s 1s/step - loss: 0.4439 - acc: 0.7884 - val_loss: 0.4635 - val_acc: 0.7871\n",
      "Epoch 11/25\n",
      "250/250 [==============================] - 262s 1s/step - loss: 0.4452 - acc: 0.7929 - val_loss: 0.4932 - val_acc: 0.7649\n",
      "Epoch 12/25\n",
      "250/250 [==============================] - 255s 1s/step - loss: 0.4290 - acc: 0.7983 - val_loss: 0.4606 - val_acc: 0.7898\n",
      "Epoch 13/25\n",
      "250/250 [==============================] - 256s 1s/step - loss: 0.4287 - acc: 0.7984 - val_loss: 0.4509 - val_acc: 0.7954\n",
      "Epoch 14/25\n",
      "250/250 [==============================] - 259s 1s/step - loss: 0.4137 - acc: 0.8082 - val_loss: 0.4577 - val_acc: 0.7933\n",
      "Epoch 15/25\n",
      "250/250 [==============================] - 258s 1s/step - loss: 0.4030 - acc: 0.8127 - val_loss: 0.5154 - val_acc: 0.7623\n",
      "Epoch 16/25\n",
      "250/250 [==============================] - 260s 1s/step - loss: 0.3962 - acc: 0.8206 - val_loss: 0.4576 - val_acc: 0.7973\n",
      "Epoch 17/25\n",
      "250/250 [==============================] - 255s 1s/step - loss: 0.3909 - acc: 0.8199 - val_loss: 0.4583 - val_acc: 0.7985\n",
      "Epoch 18/25\n",
      "250/250 [==============================] - 253s 1s/step - loss: 0.3833 - acc: 0.8284 - val_loss: 0.4461 - val_acc: 0.8090\n",
      "Epoch 19/25\n",
      "250/250 [==============================] - 257s 1s/step - loss: 0.3679 - acc: 0.8317 - val_loss: 0.4442 - val_acc: 0.7980\n",
      "Epoch 20/25\n",
      "250/250 [==============================] - 260s 1s/step - loss: 0.3641 - acc: 0.8356 - val_loss: 0.4624 - val_acc: 0.8056\n",
      "Epoch 21/25\n",
      "250/250 [==============================] - 268s 1s/step - loss: 0.3602 - acc: 0.8376 - val_loss: 0.4415 - val_acc: 0.8044\n",
      "Epoch 22/25\n",
      "250/250 [==============================] - 325s 1s/step - loss: 0.3431 - acc: 0.8510 - val_loss: 0.5060 - val_acc: 0.7761\n",
      "Epoch 23/25\n",
      "250/250 [==============================] - 336s 1s/step - loss: 0.3379 - acc: 0.8494 - val_loss: 0.4524 - val_acc: 0.8127\n",
      "Epoch 24/25\n",
      "250/250 [==============================] - 279s 1s/step - loss: 0.3387 - acc: 0.8481 - val_loss: 0.4714 - val_acc: 0.7960\n",
      "Epoch 25/25\n",
      "250/250 [==============================] - 282s 1s/step - loss: 0.3352 - acc: 0.8521 - val_loss: 0.4669 - val_acc: 0.7919\n"
     ]
    },
    {
     "data": {
      "text/plain": [
       "<keras.callbacks.History at 0x7f6e3773e160>"
      ]
     },
     "execution_count": 16,
     "metadata": {},
     "output_type": "execute_result"
    }
   ],
   "source": [
    "classifier.fit_generator(training_set,\n",
    "                         samples_per_epoch = 8000,\n",
    "                         nb_epoch = 25,\n",
    "                         validation_data = test_set,\n",
    "                         nb_val_samples = 2000)"
   ]
  },
  {
   "cell_type": "code",
   "execution_count": 18,
   "metadata": {},
   "outputs": [],
   "source": [
    "from keras.preprocessing import image\n",
    "import numpy as np "
   ]
  },
  {
   "cell_type": "code",
   "execution_count": null,
   "metadata": {},
   "outputs": [],
   "source": []
  }
 ],
 "metadata": {
  "kernelspec": {
   "display_name": "Python 3",
   "language": "python",
   "name": "python3"
  },
  "language_info": {
   "codemirror_mode": {
    "name": "ipython",
    "version": 3
   },
   "file_extension": ".py",
   "mimetype": "text/x-python",
   "name": "python",
   "nbconvert_exporter": "python",
   "pygments_lexer": "ipython3",
   "version": "3.7.3"
  }
 },
 "nbformat": 4,
 "nbformat_minor": 2
}
