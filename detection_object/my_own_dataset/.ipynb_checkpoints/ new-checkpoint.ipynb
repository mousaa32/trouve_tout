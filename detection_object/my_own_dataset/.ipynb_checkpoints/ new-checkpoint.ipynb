{
 "cells": [
  {
   "cell_type": "code",
   "execution_count": 1,
   "metadata": {
    "scrolled": false
   },
   "outputs": [
    {
     "name": "stdout",
     "output_type": "stream",
     "text": [
      "Collecting PyDrive\n",
      "\u001b[?25l  Downloading https://files.pythonhosted.org/packages/52/e0/0e64788e5dd58ce2d6934549676243dc69d982f198524be9b99e9c2a4fd5/PyDrive-1.3.1.tar.gz (987kB)\n",
      "\u001b[K     |████████████████████████████████| 993kB 425kB/s eta 0:00:01\n",
      "\u001b[?25hCollecting google-api-python-client>=1.2 (from PyDrive)\n",
      "\u001b[?25l  Downloading https://files.pythonhosted.org/packages/5e/19/9fd511734c0dee8fa3d49f4109c75e7f95d3c31ed76c0e4a93fbba147807/google-api-python-client-1.7.11.tar.gz (142kB)\n",
      "\u001b[K     |████████████████████████████████| 143kB 4.8MB/s eta 0:00:01\n",
      "\u001b[?25hCollecting oauth2client>=4.0.0 (from PyDrive)\n",
      "\u001b[?25l  Downloading https://files.pythonhosted.org/packages/95/a9/4f25a14d23f0786b64875b91784607c2277eff25d48f915e39ff0cff505a/oauth2client-4.1.3-py2.py3-none-any.whl (98kB)\n",
      "\u001b[K     |████████████████████████████████| 102kB 1.5MB/s ta 0:00:011\n",
      "\u001b[?25hRequirement already satisfied: PyYAML>=3.0 in /home/moussa/snap/jupyter/common/lib/python3.7/site-packages (from PyDrive) (5.1.2)\n",
      "Collecting httplib2<1dev,>=0.9.2 (from google-api-python-client>=1.2->PyDrive)\n",
      "\u001b[?25l  Downloading https://files.pythonhosted.org/packages/d2/84/f97b9efdb17c9b73e133bdbf2b4bfd09cd0be655e36e3ee3c4bec9095048/httplib2-0.14.0-py3-none-any.whl (94kB)\n",
      "\u001b[K     |████████████████████████████████| 102kB 1.8MB/s ta 0:00:01\n",
      "\u001b[?25hRequirement already satisfied: google-auth>=1.4.1 in /home/moussa/snap/jupyter/common/lib/python3.7/site-packages (from google-api-python-client>=1.2->PyDrive) (1.7.1)\n",
      "Collecting google-auth-httplib2>=0.0.3 (from google-api-python-client>=1.2->PyDrive)\n",
      "  Downloading https://files.pythonhosted.org/packages/33/49/c814d6d438b823441552198f096fcd0377fd6c88714dbed34f1d3c8c4389/google_auth_httplib2-0.0.3-py2.py3-none-any.whl\n",
      "Requirement already satisfied: six<2dev,>=1.6.1 in /snap/jupyter/6/lib/python3.7/site-packages (from google-api-python-client>=1.2->PyDrive) (1.12.0)\n",
      "Collecting uritemplate<4dev,>=3.0.0 (from google-api-python-client>=1.2->PyDrive)\n",
      "  Downloading https://files.pythonhosted.org/packages/e5/7d/9d5a640c4f8bf2c8b1afc015e9a9d8de32e13c9016dcc4b0ec03481fb396/uritemplate-3.0.0-py2.py3-none-any.whl\n",
      "Requirement already satisfied: rsa>=3.1.4 in /home/moussa/snap/jupyter/common/lib/python3.7/site-packages (from oauth2client>=4.0.0->PyDrive) (4.0)\n",
      "Requirement already satisfied: pyasn1-modules>=0.0.5 in /home/moussa/snap/jupyter/common/lib/python3.7/site-packages (from oauth2client>=4.0.0->PyDrive) (0.2.7)\n",
      "Requirement already satisfied: pyasn1>=0.1.7 in /home/moussa/snap/jupyter/common/lib/python3.7/site-packages (from oauth2client>=4.0.0->PyDrive) (0.4.8)\n",
      "Requirement already satisfied: cachetools<3.2,>=2.0.0 in /home/moussa/snap/jupyter/common/lib/python3.7/site-packages (from google-auth>=1.4.1->google-api-python-client>=1.2->PyDrive) (3.1.1)\n",
      "Requirement already satisfied: setuptools>=40.3.0 in /snap/jupyter/6/lib/python3.7/site-packages (from google-auth>=1.4.1->google-api-python-client>=1.2->PyDrive) (41.0.1)\n",
      "Building wheels for collected packages: PyDrive, google-api-python-client\n",
      "  Building wheel for PyDrive (setup.py) ... \u001b[?25ldone\n",
      "\u001b[?25h  Stored in directory: /home/moussa/snap/jupyter/6/.cache/pip/wheels/fa/d2/9a/d3b6b506c2da98289e5d417215ce34b696db856643bad779f4\n",
      "  Building wheel for google-api-python-client (setup.py) ... \u001b[?25ldone\n",
      "\u001b[?25h  Stored in directory: /home/moussa/snap/jupyter/6/.cache/pip/wheels/b8/f6/f5/b7bef1a5bc0e07ca4aa54c596b0b574c5afc07a9fddccf08f8\n",
      "Successfully built PyDrive google-api-python-client\n",
      "Installing collected packages: httplib2, google-auth-httplib2, uritemplate, google-api-python-client, oauth2client, PyDrive\n",
      "Successfully installed PyDrive-1.3.1 google-api-python-client-1.7.11 google-auth-httplib2-0.0.3 httplib2-0.14.0 oauth2client-4.1.3 uritemplate-3.0.0\n"
     ]
    }
   ],
   "source": [
    "!pip install PyDrive"
   ]
  },
  {
   "cell_type": "code",
   "execution_count": 6,
   "metadata": {},
   "outputs": [
    {
     "name": "stdout",
     "output_type": "stream",
     "text": [
      "Collecting google-colab\n",
      "\u001b[?25l  Downloading https://files.pythonhosted.org/packages/70/9f/d3ec1275a089ec017f9c91af22ecd1e2fe738254b944e7a1f9528fcfacd0/google-colab-1.0.0.tar.gz (72kB)\n",
      "\u001b[K     |████████████████████████████████| 81kB 395kB/s eta 0:00:01\n",
      "\u001b[?25hCollecting google-auth~=1.4.0 (from google-colab)\n",
      "\u001b[?25l  Downloading https://files.pythonhosted.org/packages/56/80/369a47c28ce7d9be6a6973338133d073864d8efbb62747e414c34a3a5f4f/google_auth-1.4.2-py2.py3-none-any.whl (64kB)\n",
      "\u001b[K     |████████████████████████████████| 71kB 7.4MB/s  eta 0:00:01\n",
      "\u001b[?25hCollecting ipykernel~=4.6.0 (from google-colab)\n",
      "\u001b[?25l  Downloading https://files.pythonhosted.org/packages/18/c3/76775a650cae2e3d9c033b26153583e61282692d9a3af12a3022d8f0cefa/ipykernel-4.6.1-py3-none-any.whl (104kB)\n",
      "\u001b[K     |████████████████████████████████| 112kB 9.7MB/s eta 0:00:01\n",
      "\u001b[?25hCollecting ipython~=5.5.0 (from google-colab)\n",
      "\u001b[?25l  Downloading https://files.pythonhosted.org/packages/07/63/c987612bcf82c56eaacaf6bf01e31e53a244a0a3a0fb036ec5adc377e0fe/ipython-5.5.0-py3-none-any.whl (758kB)\n",
      "\u001b[K     |████████████████████████████████| 768kB 1.5MB/s eta 0:00:01\n",
      "\u001b[?25hCollecting notebook~=5.2.0 (from google-colab)\n",
      "\u001b[?25l  Downloading https://files.pythonhosted.org/packages/96/a2/d951ebb7855743f989287486ded73cd3f66915c3ecd9c5c5a0c7ca12377a/notebook-5.2.2-py2.py3-none-any.whl (8.0MB)\n",
      "\u001b[K     |████████████████████████████████| 8.0MB 4.7MB/s eta 0:00:01     |██████████████████████████▏     | 6.6MB 2.2MB/s eta 0:00:01\n",
      "\u001b[?25hRequirement already satisfied: six~=1.12.0 in /snap/jupyter/6/lib/python3.7/site-packages (from google-colab) (1.12.0)\n",
      "Collecting pandas~=0.24.0 (from google-colab)\n",
      "\u001b[?25l  Downloading https://files.pythonhosted.org/packages/22/e6/2d47835f91eb010036be207581fa113fb4e3822ec1b4bafb0d3d105fede6/pandas-0.24.2-cp37-cp37m-manylinux1_x86_64.whl (10.1MB)\n",
      "\u001b[K     |████████████████████████████████| 10.1MB 1.8MB/s eta 0:00:01\n",
      "\u001b[?25hCollecting portpicker~=1.2.0 (from google-colab)\n",
      "  Downloading https://files.pythonhosted.org/packages/49/2c/a75ef568273036aa61319a554164e6031e31708106ea6ca10e17265e1703/portpicker-1.2.0.tar.gz\n",
      "Collecting requests~=2.21.0 (from google-colab)\n",
      "\u001b[?25l  Downloading https://files.pythonhosted.org/packages/7d/e3/20f3d364d6c8e5d2353c72a67778eb189176f08e873c9900e10c0287b84b/requests-2.21.0-py2.py3-none-any.whl (57kB)\n",
      "\u001b[K     |████████████████████████████████| 61kB 2.1MB/s eta 0:00:01\n",
      "\u001b[?25hCollecting tornado~=4.5.0 (from google-colab)\n",
      "\u001b[?25l  Downloading https://files.pythonhosted.org/packages/e3/7b/e29ab3d51c8df66922fea216e2bddfcb6430fb29620e5165b16a216e0d3c/tornado-4.5.3.tar.gz (484kB)\n",
      "\u001b[K     |████████████████████████████████| 491kB 14.3MB/s eta 0:00:01\n",
      "\u001b[?25hRequirement already satisfied: pyasn1-modules>=0.2.1 in /home/moussa/snap/jupyter/common/lib/python3.7/site-packages (from google-auth~=1.4.0->google-colab) (0.2.7)\n",
      "Requirement already satisfied: rsa>=3.1.4 in /home/moussa/snap/jupyter/common/lib/python3.7/site-packages (from google-auth~=1.4.0->google-colab) (4.0)\n",
      "Requirement already satisfied: cachetools>=2.0.0 in /home/moussa/snap/jupyter/common/lib/python3.7/site-packages (from google-auth~=1.4.0->google-colab) (3.1.1)\n",
      "Requirement already satisfied: traitlets>=4.1.0 in /snap/jupyter/6/lib/python3.7/site-packages (from ipykernel~=4.6.0->google-colab) (4.3.2)\n",
      "Requirement already satisfied: jupyter-client in /snap/jupyter/6/lib/python3.7/site-packages (from ipykernel~=4.6.0->google-colab) (5.2.4)\n",
      "Requirement already satisfied: pexpect; sys_platform != \"win32\" in /snap/jupyter/6/lib/python3.7/site-packages (from ipython~=5.5.0->google-colab) (4.7.0)\n",
      "Requirement already satisfied: pygments in /snap/jupyter/6/lib/python3.7/site-packages (from ipython~=5.5.0->google-colab) (2.4.2)\n",
      "Requirement already satisfied: pickleshare in /snap/jupyter/6/lib/python3.7/site-packages (from ipython~=5.5.0->google-colab) (0.7.5)\n",
      "Requirement already satisfied: setuptools>=18.5 in /snap/jupyter/6/lib/python3.7/site-packages (from ipython~=5.5.0->google-colab) (41.0.1)\n",
      "Collecting prompt-toolkit<2.0.0,>=1.0.4 (from ipython~=5.5.0->google-colab)\n",
      "\u001b[?25l  Downloading https://files.pythonhosted.org/packages/64/27/5fd61a451d086ad4aa806dc72fe1383d2bc0e74323668672287f616d5d51/prompt_toolkit-1.0.18-py3-none-any.whl (245kB)\n",
      "\u001b[K     |████████████████████████████████| 245kB 8.7MB/s eta 0:00:01\n",
      "\u001b[?25hCollecting simplegeneric>0.8 (from ipython~=5.5.0->google-colab)\n",
      "  Downloading https://files.pythonhosted.org/packages/3d/57/4d9c9e3ae9a255cd4e1106bb57e24056d3d0709fc01b2e3e345898e49d5b/simplegeneric-0.8.1.zip\n",
      "Requirement already satisfied: decorator in /snap/jupyter/6/lib/python3.7/site-packages (from ipython~=5.5.0->google-colab) (4.4.0)\n",
      "Requirement already satisfied: nbconvert in /snap/jupyter/6/lib/python3.7/site-packages (from notebook~=5.2.0->google-colab) (5.5.0)\n",
      "Requirement already satisfied: ipython-genutils in /snap/jupyter/6/lib/python3.7/site-packages (from notebook~=5.2.0->google-colab) (0.2.0)\n",
      "Requirement already satisfied: terminado>=0.3.3; sys_platform != \"win32\" in /snap/jupyter/6/lib/python3.7/site-packages (from notebook~=5.2.0->google-colab) (0.8.2)\n",
      "Requirement already satisfied: jupyter-core in /snap/jupyter/6/lib/python3.7/site-packages (from notebook~=5.2.0->google-colab) (4.4.0)\n",
      "Requirement already satisfied: jinja2 in /snap/jupyter/6/lib/python3.7/site-packages (from notebook~=5.2.0->google-colab) (2.10.1)\n",
      "Requirement already satisfied: nbformat in /snap/jupyter/6/lib/python3.7/site-packages (from notebook~=5.2.0->google-colab) (4.4.0)\n",
      "Requirement already satisfied: python-dateutil>=2.5.0 in /snap/jupyter/6/lib/python3.7/site-packages (from pandas~=0.24.0->google-colab) (2.8.0)\n",
      "Requirement already satisfied: pytz>=2011k in /home/moussa/snap/jupyter/common/lib/python3.7/site-packages (from pandas~=0.24.0->google-colab) (2019.3)\n",
      "Requirement already satisfied: numpy>=1.12.0 in /home/moussa/snap/jupyter/common/lib/python3.7/site-packages (from pandas~=0.24.0->google-colab) (1.17.3)\n",
      "Requirement already satisfied: chardet<3.1.0,>=3.0.2 in /home/moussa/snap/jupyter/common/lib/python3.7/site-packages (from requests~=2.21.0->google-colab) (3.0.4)\n",
      "Requirement already satisfied: certifi>=2017.4.17 in /snap/jupyter/6/lib/python3.7/site-packages (from requests~=2.21.0->google-colab) (2019.3.9)\n",
      "Collecting urllib3<1.25,>=1.21.1 (from requests~=2.21.0->google-colab)\n",
      "\u001b[?25l  Downloading https://files.pythonhosted.org/packages/01/11/525b02e4acc0c747de8b6ccdab376331597c569c42ea66ab0a1dbd36eca2/urllib3-1.24.3-py2.py3-none-any.whl (118kB)\n",
      "\u001b[K     |████████████████████████████████| 122kB 11.1MB/s eta 0:00:01\n",
      "\u001b[?25hRequirement already satisfied: idna<2.9,>=2.5 in /home/moussa/snap/jupyter/common/lib/python3.7/site-packages (from requests~=2.21.0->google-colab) (2.8)\n",
      "Requirement already satisfied: pyasn1<0.5.0,>=0.4.6 in /home/moussa/snap/jupyter/common/lib/python3.7/site-packages (from pyasn1-modules>=0.2.1->google-auth~=1.4.0->google-colab) (0.4.8)\n",
      "Requirement already satisfied: pyzmq>=13 in /snap/jupyter/6/lib/python3.7/site-packages (from jupyter-client->ipykernel~=4.6.0->google-colab) (18.0.1)\n",
      "Requirement already satisfied: ptyprocess>=0.5 in /snap/jupyter/6/lib/python3.7/site-packages (from pexpect; sys_platform != \"win32\"->ipython~=5.5.0->google-colab) (0.6.0)\n",
      "Requirement already satisfied: wcwidth in /snap/jupyter/6/lib/python3.7/site-packages (from prompt-toolkit<2.0.0,>=1.0.4->ipython~=5.5.0->google-colab) (0.1.7)\n",
      "Requirement already satisfied: bleach in /snap/jupyter/6/lib/python3.7/site-packages (from nbconvert->notebook~=5.2.0->google-colab) (3.1.0)\n",
      "Requirement already satisfied: defusedxml in /snap/jupyter/6/lib/python3.7/site-packages (from nbconvert->notebook~=5.2.0->google-colab) (0.5.0)\n",
      "Requirement already satisfied: pandocfilters>=1.4.1 in /snap/jupyter/6/lib/python3.7/site-packages (from nbconvert->notebook~=5.2.0->google-colab) (1.4.2)\n",
      "Requirement already satisfied: mistune>=0.8.1 in /snap/jupyter/6/lib/python3.7/site-packages (from nbconvert->notebook~=5.2.0->google-colab) (0.8.4)\n",
      "Requirement already satisfied: entrypoints>=0.2.2 in /snap/jupyter/6/lib/python3.7/site-packages (from nbconvert->notebook~=5.2.0->google-colab) (0.3)\n",
      "Requirement already satisfied: testpath in /snap/jupyter/6/lib/python3.7/site-packages (from nbconvert->notebook~=5.2.0->google-colab) (0.4.2)\n",
      "Requirement already satisfied: MarkupSafe>=0.23 in /snap/jupyter/6/lib/python3.7/site-packages (from jinja2->notebook~=5.2.0->google-colab) (1.1.1)\n",
      "Requirement already satisfied: jsonschema!=2.5.0,>=2.4 in /snap/jupyter/6/lib/python3.7/site-packages (from nbformat->notebook~=5.2.0->google-colab) (3.0.1)\n"
     ]
    },
    {
     "name": "stdout",
     "output_type": "stream",
     "text": [
      "Requirement already satisfied: webencodings in /snap/jupyter/6/lib/python3.7/site-packages (from bleach->nbconvert->notebook~=5.2.0->google-colab) (0.5.1)\n",
      "Requirement already satisfied: attrs>=17.4.0 in /snap/jupyter/6/lib/python3.7/site-packages (from jsonschema!=2.5.0,>=2.4->nbformat->notebook~=5.2.0->google-colab) (19.1.0)\n",
      "Requirement already satisfied: pyrsistent>=0.14.0 in /snap/jupyter/6/lib/python3.7/site-packages (from jsonschema!=2.5.0,>=2.4->nbformat->notebook~=5.2.0->google-colab) (0.15.2)\n",
      "Building wheels for collected packages: google-colab, portpicker, tornado, simplegeneric\n",
      "  Building wheel for google-colab (setup.py) ... \u001b[?25ldone\n",
      "\u001b[?25h  Stored in directory: /home/moussa/snap/jupyter/6/.cache/pip/wheels/38/0d/59/701e300a337b2a2e07b27fe74dbfff0bc56ac58f711566ee67\n",
      "  Building wheel for portpicker (setup.py) ... \u001b[?25ldone\n",
      "\u001b[?25h  Stored in directory: /home/moussa/snap/jupyter/6/.cache/pip/wheels/4a/45/47/1e126be9d4605e71f00d6e6fb151611f2f4cb9770b050c7d2d\n",
      "  Building wheel for tornado (setup.py) ... \u001b[?25ldone\n",
      "\u001b[?25h  Stored in directory: /home/moussa/snap/jupyter/6/.cache/pip/wheels/72/bf/f4/b68fa69596986881b397b18ff2b9af5f8181233aadcc9f76fd\n",
      "  Building wheel for simplegeneric (setup.py) ... \u001b[?25ldone\n",
      "\u001b[?25h  Stored in directory: /home/moussa/snap/jupyter/6/.cache/pip/wheels/a9/28/53/f24776b4c5bcbe91aaf1f1e247bd6fadd17191aa12fac63902\n",
      "Successfully built google-colab portpicker tornado simplegeneric\n",
      "\u001b[31mERROR: tensorboard 2.0.2 has requirement google-auth<2,>=1.6.3, but you'll have google-auth 1.4.2 which is incompatible.\u001b[0m\n",
      "\u001b[31mERROR: jupyter-console 6.0.0 has requirement prompt_toolkit<2.1.0,>=2.0.0, but you'll have prompt-toolkit 1.0.18 which is incompatible.\u001b[0m\n",
      "Installing collected packages: google-auth, prompt-toolkit, simplegeneric, ipython, tornado, ipykernel, notebook, pandas, portpicker, urllib3, requests, google-colab\n",
      "  Found existing installation: google-auth 1.7.1\n",
      "    Uninstalling google-auth-1.7.1:\n",
      "      Successfully uninstalled google-auth-1.7.1\n",
      "  Found existing installation: pandas 0.25.2\n",
      "    Uninstalling pandas-0.25.2:\n",
      "      Successfully uninstalled pandas-0.25.2\n",
      "  Found existing installation: urllib3 1.25.6\n",
      "    Uninstalling urllib3-1.25.6:\n",
      "      Successfully uninstalled urllib3-1.25.6\n",
      "  Found existing installation: requests 2.22.0\n",
      "    Uninstalling requests-2.22.0:\n",
      "      Successfully uninstalled requests-2.22.0\n",
      "Successfully installed google-auth-1.4.2 google-colab-1.0.0 ipykernel-4.6.1 ipython-5.5.0 notebook-5.2.2 pandas-0.24.2 portpicker-1.2.0 prompt-toolkit-1.0.18 requests-2.21.0 simplegeneric-0.8.1 tornado-4.5.3 urllib3-1.24.3\n"
     ]
    }
   ],
   "source": [
    "!pip install google-colab"
   ]
  },
  {
   "cell_type": "code",
   "execution_count": 7,
   "metadata": {},
   "outputs": [
    {
     "name": "stderr",
     "output_type": "stream",
     "text": [
      "/home/moussa/snap/jupyter/common/lib/python3.7/site-packages/google/colab/data_table.py:30: UserWarning: IPython.utils.traitlets has moved to a top-level traitlets package.\n",
      "  from IPython.utils import traitlets as _traitlets\n"
     ]
    }
   ],
   "source": [
    "import os\n",
    "from pydrive.auth import GoogleAuth\n",
    "from pydrive.drive import GoogleDrive\n",
    "from google.colab import auth\n",
    "from oauth2client.client import GoogleCredentials"
   ]
  },
  {
   "cell_type": "code",
   "execution_count": 8,
   "metadata": {},
   "outputs": [
    {
     "data": {},
     "metadata": {
      "outputarea": {
       "add_tags": [
        "3fcf3fba-2632-48c0-8853-9727f239b42d"
       ],
       "nodisplay": true,
       "remove_tags": []
      }
     },
     "output_type": "display_data"
    },
    {
     "data": {},
     "metadata": {
      "outputarea": {
       "add_tags": [],
       "nodisplay": true,
       "remove_tags": [
        "3fcf3fba-2632-48c0-8853-9727f239b42d"
       ]
      }
     },
     "output_type": "display_data"
    },
    {
     "ename": "FileNotFoundError",
     "evalue": "[Errno 2] No such file or directory: 'gcloud': 'gcloud'",
     "output_type": "error",
     "traceback": [
      "\u001b[0;31m---------------------------------------------------------------------------\u001b[0m",
      "\u001b[0;31mFileNotFoundError\u001b[0m                         Traceback (most recent call last)",
      "\u001b[0;32m<ipython-input-8-3254a9bed9fd>\u001b[0m in \u001b[0;36m<module>\u001b[0;34m\u001b[0m\n\u001b[0;32m----> 1\u001b[0;31m \u001b[0mauth\u001b[0m\u001b[0;34m.\u001b[0m\u001b[0mauthenticate_user\u001b[0m\u001b[0;34m(\u001b[0m\u001b[0;34m)\u001b[0m\u001b[0;34m\u001b[0m\u001b[0;34m\u001b[0m\u001b[0m\n\u001b[0m\u001b[1;32m      2\u001b[0m \u001b[0mgauth\u001b[0m \u001b[0;34m=\u001b[0m \u001b[0mGoogleAuth\u001b[0m\u001b[0;34m(\u001b[0m\u001b[0;34m)\u001b[0m\u001b[0;34m\u001b[0m\u001b[0;34m\u001b[0m\u001b[0m\n\u001b[1;32m      3\u001b[0m \u001b[0mgauth\u001b[0m\u001b[0;34m.\u001b[0m\u001b[0mcredentials\u001b[0m \u001b[0;34m=\u001b[0m \u001b[0mGoogleCredentials\u001b[0m\u001b[0;34m.\u001b[0m\u001b[0mget_application_default\u001b[0m\u001b[0;34m(\u001b[0m\u001b[0;34m)\u001b[0m\u001b[0;34m\u001b[0m\u001b[0;34m\u001b[0m\u001b[0m\n\u001b[1;32m      4\u001b[0m \u001b[0mdrive\u001b[0m \u001b[0;34m=\u001b[0m \u001b[0mGoogleDrive\u001b[0m\u001b[0;34m(\u001b[0m\u001b[0mgauth\u001b[0m\u001b[0;34m)\u001b[0m\u001b[0;34m\u001b[0m\u001b[0;34m\u001b[0m\u001b[0m\n",
      "\u001b[0;32m/home/moussa/snap/jupyter/common/lib/python3.7/site-packages/google/colab/auth.py\u001b[0m in \u001b[0;36mauthenticate_user\u001b[0;34m(clear_output)\u001b[0m\n\u001b[1;32m    145\u001b[0m     \u001b[0mcontext_manager\u001b[0m \u001b[0;34m=\u001b[0m \u001b[0m_output\u001b[0m\u001b[0;34m.\u001b[0m\u001b[0mtemporary\u001b[0m \u001b[0;32mif\u001b[0m \u001b[0mclear_output\u001b[0m \u001b[0;32melse\u001b[0m \u001b[0m_noop\u001b[0m\u001b[0;34m\u001b[0m\u001b[0;34m\u001b[0m\u001b[0m\n\u001b[1;32m    146\u001b[0m     \u001b[0;32mwith\u001b[0m \u001b[0mcontext_manager\u001b[0m\u001b[0;34m(\u001b[0m\u001b[0;34m)\u001b[0m\u001b[0;34m:\u001b[0m\u001b[0;34m\u001b[0m\u001b[0;34m\u001b[0m\u001b[0m\n\u001b[0;32m--> 147\u001b[0;31m       \u001b[0m_gcloud_login\u001b[0m\u001b[0;34m(\u001b[0m\u001b[0;34m)\u001b[0m\u001b[0;34m\u001b[0m\u001b[0;34m\u001b[0m\u001b[0m\n\u001b[0m\u001b[1;32m    148\u001b[0m     \u001b[0m_install_adc\u001b[0m\u001b[0;34m(\u001b[0m\u001b[0;34m)\u001b[0m\u001b[0;34m\u001b[0m\u001b[0;34m\u001b[0m\u001b[0m\n\u001b[1;32m    149\u001b[0m     \u001b[0mcolab_tpu_addr\u001b[0m \u001b[0;34m=\u001b[0m \u001b[0m_os\u001b[0m\u001b[0;34m.\u001b[0m\u001b[0menviron\u001b[0m\u001b[0;34m.\u001b[0m\u001b[0mget\u001b[0m\u001b[0;34m(\u001b[0m\u001b[0;34m'COLAB_TPU_ADDR'\u001b[0m\u001b[0;34m,\u001b[0m \u001b[0;34m''\u001b[0m\u001b[0;34m)\u001b[0m\u001b[0;34m\u001b[0m\u001b[0;34m\u001b[0m\u001b[0m\n",
      "\u001b[0;32m/home/moussa/snap/jupyter/common/lib/python3.7/site-packages/google/colab/auth.py\u001b[0m in \u001b[0;36m_gcloud_login\u001b[0;34m()\u001b[0m\n\u001b[1;32m     77\u001b[0m       \u001b[0mstdout\u001b[0m\u001b[0;34m=\u001b[0m\u001b[0mf\u001b[0m\u001b[0;34m,\u001b[0m\u001b[0;34m\u001b[0m\u001b[0;34m\u001b[0m\u001b[0m\n\u001b[1;32m     78\u001b[0m       \u001b[0mstderr\u001b[0m\u001b[0;34m=\u001b[0m\u001b[0m_subprocess\u001b[0m\u001b[0;34m.\u001b[0m\u001b[0mSTDOUT\u001b[0m\u001b[0;34m,\u001b[0m\u001b[0;34m\u001b[0m\u001b[0;34m\u001b[0m\u001b[0m\n\u001b[0;32m---> 79\u001b[0;31m       universal_newlines=True)\n\u001b[0m\u001b[1;32m     80\u001b[0m   \u001b[0;32mtry\u001b[0m\u001b[0;34m:\u001b[0m\u001b[0;34m\u001b[0m\u001b[0;34m\u001b[0m\u001b[0m\n\u001b[1;32m     81\u001b[0m     \u001b[0;32mwhile\u001b[0m \u001b[0;32mTrue\u001b[0m\u001b[0;34m:\u001b[0m\u001b[0;34m\u001b[0m\u001b[0;34m\u001b[0m\u001b[0m\n",
      "\u001b[0;32m/snap/jupyter/6/lib/python3.7/subprocess.py\u001b[0m in \u001b[0;36m__init__\u001b[0;34m(self, args, bufsize, executable, stdin, stdout, stderr, preexec_fn, close_fds, shell, cwd, env, universal_newlines, startupinfo, creationflags, restore_signals, start_new_session, pass_fds, encoding, errors, text)\u001b[0m\n\u001b[1;32m    773\u001b[0m                                 \u001b[0mc2pread\u001b[0m\u001b[0;34m,\u001b[0m \u001b[0mc2pwrite\u001b[0m\u001b[0;34m,\u001b[0m\u001b[0;34m\u001b[0m\u001b[0;34m\u001b[0m\u001b[0m\n\u001b[1;32m    774\u001b[0m                                 \u001b[0merrread\u001b[0m\u001b[0;34m,\u001b[0m \u001b[0merrwrite\u001b[0m\u001b[0;34m,\u001b[0m\u001b[0;34m\u001b[0m\u001b[0;34m\u001b[0m\u001b[0m\n\u001b[0;32m--> 775\u001b[0;31m                                 restore_signals, start_new_session)\n\u001b[0m\u001b[1;32m    776\u001b[0m         \u001b[0;32mexcept\u001b[0m\u001b[0;34m:\u001b[0m\u001b[0;34m\u001b[0m\u001b[0;34m\u001b[0m\u001b[0m\n\u001b[1;32m    777\u001b[0m             \u001b[0;31m# Cleanup if the child failed starting.\u001b[0m\u001b[0;34m\u001b[0m\u001b[0;34m\u001b[0m\u001b[0;34m\u001b[0m\u001b[0m\n",
      "\u001b[0;32m/snap/jupyter/6/lib/python3.7/subprocess.py\u001b[0m in \u001b[0;36m_execute_child\u001b[0;34m(self, args, executable, preexec_fn, close_fds, pass_fds, cwd, env, startupinfo, creationflags, shell, p2cread, p2cwrite, c2pread, c2pwrite, errread, errwrite, restore_signals, start_new_session)\u001b[0m\n\u001b[1;32m   1520\u001b[0m                         \u001b[0;32mif\u001b[0m \u001b[0merrno_num\u001b[0m \u001b[0;34m==\u001b[0m \u001b[0merrno\u001b[0m\u001b[0;34m.\u001b[0m\u001b[0mENOENT\u001b[0m\u001b[0;34m:\u001b[0m\u001b[0;34m\u001b[0m\u001b[0;34m\u001b[0m\u001b[0m\n\u001b[1;32m   1521\u001b[0m                             \u001b[0merr_msg\u001b[0m \u001b[0;34m+=\u001b[0m \u001b[0;34m': '\u001b[0m \u001b[0;34m+\u001b[0m \u001b[0mrepr\u001b[0m\u001b[0;34m(\u001b[0m\u001b[0merr_filename\u001b[0m\u001b[0;34m)\u001b[0m\u001b[0;34m\u001b[0m\u001b[0;34m\u001b[0m\u001b[0m\n\u001b[0;32m-> 1522\u001b[0;31m                     \u001b[0;32mraise\u001b[0m \u001b[0mchild_exception_type\u001b[0m\u001b[0;34m(\u001b[0m\u001b[0merrno_num\u001b[0m\u001b[0;34m,\u001b[0m \u001b[0merr_msg\u001b[0m\u001b[0;34m,\u001b[0m \u001b[0merr_filename\u001b[0m\u001b[0;34m)\u001b[0m\u001b[0;34m\u001b[0m\u001b[0;34m\u001b[0m\u001b[0m\n\u001b[0m\u001b[1;32m   1523\u001b[0m                 \u001b[0;32mraise\u001b[0m \u001b[0mchild_exception_type\u001b[0m\u001b[0;34m(\u001b[0m\u001b[0merr_msg\u001b[0m\u001b[0;34m)\u001b[0m\u001b[0;34m\u001b[0m\u001b[0;34m\u001b[0m\u001b[0m\n\u001b[1;32m   1524\u001b[0m \u001b[0;34m\u001b[0m\u001b[0m\n",
      "\u001b[0;31mFileNotFoundError\u001b[0m: [Errno 2] No such file or directory: 'gcloud': 'gcloud'"
     ]
    }
   ],
   "source": [
    "auth.authenticate_user()\n",
    "gauth = GoogleAuth()\n",
    "gauth.credentials = GoogleCredentials.get_application_default()\n",
    "drive = GoogleDrive(gauth)"
   ]
  }
 ],
 "metadata": {
  "kernelspec": {
   "display_name": "Python 3",
   "language": "python",
   "name": "python3"
  },
  "language_info": {
   "codemirror_mode": {
    "name": "ipython",
    "version": 3
   },
   "file_extension": ".py",
   "mimetype": "text/x-python",
   "name": "python",
   "nbconvert_exporter": "python",
   "pygments_lexer": "ipython3",
   "version": "3.7.3"
  }
 },
 "nbformat": 4,
 "nbformat_minor": 2
}
